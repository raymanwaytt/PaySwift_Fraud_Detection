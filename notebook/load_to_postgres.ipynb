{
 "cells": [
  {
   "cell_type": "markdown",
   "id": "f68b195b-d650-4fc2-ac99-d7aab2483173",
   "metadata": {},
   "source": [
    "# CONNECTING TO `Payswift` DATABASE USING PYTHON"
   ]
  },
  {
   "cell_type": "code",
   "execution_count": 19,
   "id": "b95986c9-95d5-4103-bea9-f8fa891f8171",
   "metadata": {},
   "outputs": [],
   "source": [
    "import psycopg2\n",
    "import pandas as pd\n",
    "import warnings\n",
    "warnings.simplefilter(action=\"ignore\", category=UserWarning)"
   ]
  },
  {
   "cell_type": "markdown",
   "id": "16b6a365-1b80-4efe-a778-3d376c3b0628",
   "metadata": {},
   "source": [
    "### CONNECTING TO PAYSWIFT (SQL DATABASE)"
   ]
  },
  {
   "cell_type": "code",
   "execution_count": 60,
   "id": "26795bb6-0fe4-402e-8d4e-3ba099a37767",
   "metadata": {
    "scrolled": true
   },
   "outputs": [
    {
     "name": "stdout",
     "output_type": "stream",
     "text": [
      "connected to Payswift Database\n"
     ]
    }
   ],
   "source": [
    "# connecting to Payswift database\n",
    "conn = psycopg2.connect(\n",
    "    dbname=\"Payswift\", \n",
    "    user=\"postgres\", \n",
    "    password=\"ray\", \n",
    "    host=\"localhost\")\n",
    "\n",
    "cursor = conn.cursor()\n",
    "print('connected to Payswift Database')"
   ]
  },
  {
   "cell_type": "markdown",
   "id": "ac944956-6cdd-4558-b88d-080b54c2f80a",
   "metadata": {},
   "source": [
    "### INSERTING `transactions.csv` INTO `transactions` TABLE"
   ]
  },
  {
   "cell_type": "code",
   "execution_count": 83,
   "id": "c08aaeba-b37d-4e1f-93ef-a3c550ebd5a3",
   "metadata": {},
   "outputs": [
    {
     "name": "stdout",
     "output_type": "stream",
     "text": [
      "Loaded 10K transactions into Postgres!\n"
     ]
    }
   ],
   "source": [
    "# Load CSV and insert into transactions table\n",
    "with open(\"../data/transactions.csv\", \"r\") as f:\n",
    "    cursor.copy_expert(\"COPY transactions FROM STDIN WITH CSV HEADER\", f)\n",
    "    \n",
    "# commit the save\n",
    "conn.commit()\n",
    "\n",
    "print(\"Loaded 10K transactions into Postgres!\")"
   ]
  },
  {
   "cell_type": "code",
   "execution_count": 85,
   "id": "f78d758d-9c83-462c-af81-addd7ec7e2d6",
   "metadata": {},
   "outputs": [
    {
     "data": {
      "text/html": [
       "<div>\n",
       "<style scoped>\n",
       "    .dataframe tbody tr th:only-of-type {\n",
       "        vertical-align: middle;\n",
       "    }\n",
       "\n",
       "    .dataframe tbody tr th {\n",
       "        vertical-align: top;\n",
       "    }\n",
       "\n",
       "    .dataframe thead th {\n",
       "        text-align: right;\n",
       "    }\n",
       "</style>\n",
       "<table border=\"1\" class=\"dataframe\">\n",
       "  <thead>\n",
       "    <tr style=\"text-align: right;\">\n",
       "      <th></th>\n",
       "      <th>transaction_id</th>\n",
       "      <th>user_id</th>\n",
       "      <th>amount</th>\n",
       "      <th>timestamp</th>\n",
       "      <th>type</th>\n",
       "      <th>region</th>\n",
       "      <th>is_fraud</th>\n",
       "    </tr>\n",
       "  </thead>\n",
       "  <tbody>\n",
       "    <tr>\n",
       "      <th>0</th>\n",
       "      <td>TXN00000</td>\n",
       "      <td>USR394</td>\n",
       "      <td>21282.63</td>\n",
       "      <td>2025-03-05 18:00:00</td>\n",
       "      <td>payment</td>\n",
       "      <td>Lagos</td>\n",
       "      <td>False</td>\n",
       "    </tr>\n",
       "    <tr>\n",
       "      <th>1</th>\n",
       "      <td>TXN00001</td>\n",
       "      <td>USR515</td>\n",
       "      <td>19434.87</td>\n",
       "      <td>2025-03-22 07:00:00</td>\n",
       "      <td>payment</td>\n",
       "      <td>Lagos</td>\n",
       "      <td>False</td>\n",
       "    </tr>\n",
       "    <tr>\n",
       "      <th>2</th>\n",
       "      <td>TXN00002</td>\n",
       "      <td>USR744</td>\n",
       "      <td>45570.23</td>\n",
       "      <td>2025-03-22 14:00:00</td>\n",
       "      <td>withdrawal</td>\n",
       "      <td>Nairobi</td>\n",
       "      <td>False</td>\n",
       "    </tr>\n",
       "    <tr>\n",
       "      <th>3</th>\n",
       "      <td>TXN00003</td>\n",
       "      <td>USR738</td>\n",
       "      <td>6485.54</td>\n",
       "      <td>2025-03-06 09:00:00</td>\n",
       "      <td>payment</td>\n",
       "      <td>Lagos</td>\n",
       "      <td>False</td>\n",
       "    </tr>\n",
       "    <tr>\n",
       "      <th>4</th>\n",
       "      <td>TXN00004</td>\n",
       "      <td>USR328</td>\n",
       "      <td>46007.09</td>\n",
       "      <td>2025-03-18 03:00:00</td>\n",
       "      <td>withdrawal</td>\n",
       "      <td>Nairobi</td>\n",
       "      <td>False</td>\n",
       "    </tr>\n",
       "    <tr>\n",
       "      <th>5</th>\n",
       "      <td>TXN00005</td>\n",
       "      <td>USR828</td>\n",
       "      <td>10224.54</td>\n",
       "      <td>2025-03-07 04:00:00</td>\n",
       "      <td>deposit</td>\n",
       "      <td>Nairobi</td>\n",
       "      <td>False</td>\n",
       "    </tr>\n",
       "    <tr>\n",
       "      <th>6</th>\n",
       "      <td>TXN00006</td>\n",
       "      <td>USR697</td>\n",
       "      <td>3419.21</td>\n",
       "      <td>2025-03-21 02:00:00</td>\n",
       "      <td>withdrawal</td>\n",
       "      <td>Nairobi</td>\n",
       "      <td>False</td>\n",
       "    </tr>\n",
       "    <tr>\n",
       "      <th>7</th>\n",
       "      <td>TXN00007</td>\n",
       "      <td>USR216</td>\n",
       "      <td>49340.21</td>\n",
       "      <td>2025-03-12 13:00:00</td>\n",
       "      <td>payment</td>\n",
       "      <td>Lagos</td>\n",
       "      <td>False</td>\n",
       "    </tr>\n",
       "    <tr>\n",
       "      <th>8</th>\n",
       "      <td>TXN00008</td>\n",
       "      <td>USR720</td>\n",
       "      <td>27888.67</td>\n",
       "      <td>2025-03-15 09:00:00</td>\n",
       "      <td>payment</td>\n",
       "      <td>Nairobi</td>\n",
       "      <td>False</td>\n",
       "    </tr>\n",
       "    <tr>\n",
       "      <th>9</th>\n",
       "      <td>TXN00009</td>\n",
       "      <td>USR978</td>\n",
       "      <td>27034.40</td>\n",
       "      <td>2025-03-27 23:00:00</td>\n",
       "      <td>withdrawal</td>\n",
       "      <td>Nairobi</td>\n",
       "      <td>False</td>\n",
       "    </tr>\n",
       "  </tbody>\n",
       "</table>\n",
       "</div>"
      ],
      "text/plain": [
       "  transaction_id user_id    amount           timestamp        type   region  \\\n",
       "0       TXN00000  USR394  21282.63 2025-03-05 18:00:00     payment    Lagos   \n",
       "1       TXN00001  USR515  19434.87 2025-03-22 07:00:00     payment    Lagos   \n",
       "2       TXN00002  USR744  45570.23 2025-03-22 14:00:00  withdrawal  Nairobi   \n",
       "3       TXN00003  USR738   6485.54 2025-03-06 09:00:00     payment    Lagos   \n",
       "4       TXN00004  USR328  46007.09 2025-03-18 03:00:00  withdrawal  Nairobi   \n",
       "5       TXN00005  USR828  10224.54 2025-03-07 04:00:00     deposit  Nairobi   \n",
       "6       TXN00006  USR697   3419.21 2025-03-21 02:00:00  withdrawal  Nairobi   \n",
       "7       TXN00007  USR216  49340.21 2025-03-12 13:00:00     payment    Lagos   \n",
       "8       TXN00008  USR720  27888.67 2025-03-15 09:00:00     payment  Nairobi   \n",
       "9       TXN00009  USR978  27034.40 2025-03-27 23:00:00  withdrawal  Nairobi   \n",
       "\n",
       "   is_fraud  \n",
       "0     False  \n",
       "1     False  \n",
       "2     False  \n",
       "3     False  \n",
       "4     False  \n",
       "5     False  \n",
       "6     False  \n",
       "7     False  \n",
       "8     False  \n",
       "9     False  "
      ]
     },
     "execution_count": 85,
     "metadata": {},
     "output_type": "execute_result"
    }
   ],
   "source": [
    "# Data Exploration\n",
    "pd.read_sql(\"\"\"\n",
    "    SELECT * \n",
    "    FROM transactions\n",
    "    LIMIT 10\n",
    "\"\"\", conn)"
   ]
  },
  {
   "cell_type": "code",
   "execution_count": 84,
   "id": "7ca3c206-6410-40b3-b04e-e743fc887ad4",
   "metadata": {},
   "outputs": [
    {
     "data": {
      "text/plain": [
       "is_fraud\n",
       "False    8699\n",
       "True     1301\n",
       "Name: count, dtype: int64"
      ]
     },
     "execution_count": 84,
     "metadata": {},
     "output_type": "execute_result"
    }
   ],
   "source": [
    "# checking for fraud cases\n",
    "pd.read_sql(\"\"\"\n",
    "    SELECT * \n",
    "    FROM transactions\n",
    "\"\"\", conn)['is_fraud'].value_counts()"
   ]
  },
  {
   "cell_type": "markdown",
   "id": "a8c30d0d-3ed4-4713-9c30-17272c44301e",
   "metadata": {},
   "source": [
    "### INSERTING `users.csv` INTO `users` TABLE"
   ]
  },
  {
   "cell_type": "code",
   "execution_count": 49,
   "id": "7522242a-6522-4b15-89ff-bd300c27000a",
   "metadata": {},
   "outputs": [],
   "source": [
    "# open users.csv and load into users table\n",
    "with open(\"../data/users.csv\", \"r\") as g:\n",
    "    cursor.copy_expert(\"COPY users FROM STDIN WITH CSV HEADER\", g)\n",
    "\n",
    "\n",
    "# save load\n",
    "conn.commit()"
   ]
  },
  {
   "cell_type": "code",
   "execution_count": 50,
   "id": "7a470f80-8c93-41b2-a1f2-615d467ec125",
   "metadata": {},
   "outputs": [
    {
     "data": {
      "text/html": [
       "<div>\n",
       "<style scoped>\n",
       "    .dataframe tbody tr th:only-of-type {\n",
       "        vertical-align: middle;\n",
       "    }\n",
       "\n",
       "    .dataframe tbody tr th {\n",
       "        vertical-align: top;\n",
       "    }\n",
       "\n",
       "    .dataframe thead th {\n",
       "        text-align: right;\n",
       "    }\n",
       "</style>\n",
       "<table border=\"1\" class=\"dataframe\">\n",
       "  <thead>\n",
       "    <tr style=\"text-align: right;\">\n",
       "      <th></th>\n",
       "      <th>user_id</th>\n",
       "      <th>account_age_days</th>\n",
       "      <th>avg_transaction_value</th>\n",
       "    </tr>\n",
       "  </thead>\n",
       "  <tbody>\n",
       "    <tr>\n",
       "      <th>0</th>\n",
       "      <td>USR100</td>\n",
       "      <td>74</td>\n",
       "      <td>15532.97</td>\n",
       "    </tr>\n",
       "    <tr>\n",
       "      <th>1</th>\n",
       "      <td>USR101</td>\n",
       "      <td>357</td>\n",
       "      <td>14468.89</td>\n",
       "    </tr>\n",
       "    <tr>\n",
       "      <th>2</th>\n",
       "      <td>USR102</td>\n",
       "      <td>129</td>\n",
       "      <td>12657.60</td>\n",
       "    </tr>\n",
       "    <tr>\n",
       "      <th>3</th>\n",
       "      <td>USR103</td>\n",
       "      <td>48</td>\n",
       "      <td>7082.07</td>\n",
       "    </tr>\n",
       "    <tr>\n",
       "      <th>4</th>\n",
       "      <td>USR104</td>\n",
       "      <td>256</td>\n",
       "      <td>14871.66</td>\n",
       "    </tr>\n",
       "  </tbody>\n",
       "</table>\n",
       "</div>"
      ],
      "text/plain": [
       "  user_id  account_age_days  avg_transaction_value\n",
       "0  USR100                74               15532.97\n",
       "1  USR101               357               14468.89\n",
       "2  USR102               129               12657.60\n",
       "3  USR103                48                7082.07\n",
       "4  USR104               256               14871.66"
      ]
     },
     "execution_count": 50,
     "metadata": {},
     "output_type": "execute_result"
    }
   ],
   "source": [
    "# load first 5 rows\n",
    "pd.read_sql(\"\"\"\n",
    "    SELECT * \n",
    "    FROM users\n",
    "    LIMIT 5\n",
    "\"\"\", conn)"
   ]
  },
  {
   "cell_type": "markdown",
   "id": "1da53ee8-6e39-4dc1-83d6-24d03194e757",
   "metadata": {},
   "source": [
    "## INSERTING `logins.csv` INTO `logins` TABLE"
   ]
  },
  {
   "cell_type": "code",
   "execution_count": 58,
   "id": "3a48f4cb-6922-43eb-a3ab-fbec0ec34ef2",
   "metadata": {},
   "outputs": [],
   "source": [
    "conn.rollback()  # Clears the failed transaction\n",
    "with open(\"../data/logins.csv\") as h:\n",
    "    cursor.copy_expert(\"\"\"\n",
    "        COPY logins (user_id, timestamp, login_status, failed_attempts) \n",
    "        FROM STDIN \n",
    "        WITH CSV HEADER\n",
    "    \"\"\", h)\n",
    "conn.commit()"
   ]
  },
  {
   "cell_type": "code",
   "execution_count": 86,
   "id": "cefa8f75-0d0d-40fc-985e-48e25a1c3c6c",
   "metadata": {},
   "outputs": [
    {
     "data": {
      "text/html": [
       "<div>\n",
       "<style scoped>\n",
       "    .dataframe tbody tr th:only-of-type {\n",
       "        vertical-align: middle;\n",
       "    }\n",
       "\n",
       "    .dataframe tbody tr th {\n",
       "        vertical-align: top;\n",
       "    }\n",
       "\n",
       "    .dataframe thead th {\n",
       "        text-align: right;\n",
       "    }\n",
       "</style>\n",
       "<table border=\"1\" class=\"dataframe\">\n",
       "  <thead>\n",
       "    <tr style=\"text-align: right;\">\n",
       "      <th></th>\n",
       "      <th>user_id</th>\n",
       "      <th>timestamp</th>\n",
       "      <th>login_status</th>\n",
       "      <th>failed_attempts</th>\n",
       "    </tr>\n",
       "    <tr>\n",
       "      <th>id</th>\n",
       "      <th></th>\n",
       "      <th></th>\n",
       "      <th></th>\n",
       "      <th></th>\n",
       "    </tr>\n",
       "  </thead>\n",
       "  <tbody>\n",
       "    <tr>\n",
       "      <th>1</th>\n",
       "      <td>USR654</td>\n",
       "      <td>2025-03-02 09:00:00</td>\n",
       "      <td>success</td>\n",
       "      <td>0</td>\n",
       "    </tr>\n",
       "    <tr>\n",
       "      <th>2</th>\n",
       "      <td>USR769</td>\n",
       "      <td>2025-03-06 07:00:00</td>\n",
       "      <td>success</td>\n",
       "      <td>0</td>\n",
       "    </tr>\n",
       "    <tr>\n",
       "      <th>3</th>\n",
       "      <td>USR437</td>\n",
       "      <td>2025-03-29 14:00:00</td>\n",
       "      <td>success</td>\n",
       "      <td>0</td>\n",
       "    </tr>\n",
       "    <tr>\n",
       "      <th>4</th>\n",
       "      <td>USR462</td>\n",
       "      <td>2025-03-21 21:00:00</td>\n",
       "      <td>success</td>\n",
       "      <td>0</td>\n",
       "    </tr>\n",
       "    <tr>\n",
       "      <th>5</th>\n",
       "      <td>USR860</td>\n",
       "      <td>2025-03-28 09:00:00</td>\n",
       "      <td>success</td>\n",
       "      <td>0</td>\n",
       "    </tr>\n",
       "  </tbody>\n",
       "</table>\n",
       "</div>"
      ],
      "text/plain": [
       "   user_id           timestamp login_status  failed_attempts\n",
       "id                                                          \n",
       "1   USR654 2025-03-02 09:00:00      success                0\n",
       "2   USR769 2025-03-06 07:00:00      success                0\n",
       "3   USR437 2025-03-29 14:00:00      success                0\n",
       "4   USR462 2025-03-21 21:00:00      success                0\n",
       "5   USR860 2025-03-28 09:00:00      success                0"
      ]
     },
     "execution_count": 86,
     "metadata": {},
     "output_type": "execute_result"
    }
   ],
   "source": [
    "# load first 5 rows\n",
    "pd.read_sql(\"\"\"\n",
    "    SELECT * \n",
    "    FROM logins\n",
    "    LIMIT 5\n",
    "\"\"\", conn, index_col='id')"
   ]
  }
 ],
 "metadata": {
  "kernelspec": {
   "display_name": "Python 3 (ipykernel)",
   "language": "python",
   "name": "python3"
  },
  "language_info": {
   "codemirror_mode": {
    "name": "ipython",
    "version": 3
   },
   "file_extension": ".py",
   "mimetype": "text/x-python",
   "name": "python",
   "nbconvert_exporter": "python",
   "pygments_lexer": "ipython3",
   "version": "3.11.2"
  }
 },
 "nbformat": 4,
 "nbformat_minor": 5
}
